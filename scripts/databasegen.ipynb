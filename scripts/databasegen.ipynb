{
 "cells": [
  {
   "cell_type": "code",
   "execution_count": 6,
   "metadata": {},
   "outputs": [],
   "source": [
    "import os\n",
    "import json\n",
    "\n",
    "json_directory = '../jsons'\n",
    "\n",
    "combined_data = {}\n"
   ]
  },
  {
   "cell_type": "code",
   "execution_count": 7,
   "metadata": {},
   "outputs": [],
   "source": [
    "def convert_attributes(attributes_list):\n",
    "    attributes_dict = {}\n",
    "    for attribute in attributes_list:\n",
    "        trait_type = attribute['trait_type']\n",
    "        value = attribute['value']\n",
    "        attributes_dict[trait_type] = value\n",
    "    return attributes_dict"
   ]
  },
  {
   "cell_type": "code",
   "execution_count": 8,
   "metadata": {},
   "outputs": [],
   "source": [
    "for i in range(101, 8881):\n",
    "    file_name = f\"{i}.json\"\n",
    "    file_path = os.path.join(json_directory, file_name)\n",
    "    \n",
    "    # Read each JSON file and store its content in the combined_data dictionary\n",
    "    if os.path.exists(file_path):\n",
    "        with open(file_path, 'r') as file:\n",
    "            file_data = json.load(file)\n",
    "            file_data['attributes'] = convert_attributes(file_data['attributes'])\n",
    "            combined_data[f\"file{i}\"] = file_data\n",
    "    else:\n",
    "        print(f\"File {file_path} does not exist\")\n"
   ]
  },
  {
   "cell_type": "code",
   "execution_count": 9,
   "metadata": {},
   "outputs": [
    {
     "name": "stdout",
     "output_type": "stream",
     "text": [
      "Combined JSON data saved to combined_jsonsSW.json\n"
     ]
    }
   ],
   "source": [
    "output_file = 'combined_jsonsSW.json'\n",
    "with open(output_file, 'w') as outfile:\n",
    "    json.dump(combined_data, outfile, indent=4)\n",
    "\n",
    "print(f\"Combined JSON data saved to {output_file}\")"
   ]
  },
  {
   "cell_type": "code",
   "execution_count": null,
   "metadata": {},
   "outputs": [],
   "source": []
  },
  {
   "cell_type": "code",
   "execution_count": null,
   "metadata": {},
   "outputs": [],
   "source": []
  }
 ],
 "metadata": {
  "kernelspec": {
   "display_name": "Python 3",
   "language": "python",
   "name": "python3"
  },
  "language_info": {
   "codemirror_mode": {
    "name": "ipython",
    "version": 3
   },
   "file_extension": ".py",
   "mimetype": "text/x-python",
   "name": "python",
   "nbconvert_exporter": "python",
   "pygments_lexer": "ipython3",
   "version": "3.6.12"
  }
 },
 "nbformat": 4,
 "nbformat_minor": 4
}
