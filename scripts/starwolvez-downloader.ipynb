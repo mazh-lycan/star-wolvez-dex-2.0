{
 "cells": [
  {
   "cell_type": "code",
   "execution_count": null,
   "metadata": {},
   "outputs": [],
   "source": [
    "import os\n",
    "import requests\n",
    "import json \n",
    "\n",
    "# Create directories if they don't exist\n",
    "if not os.path.exists('./jsons'):\n",
    "    os.makedirs('./jsons')\n",
    "if not os.path.exists('./pics'):\n",
    "    os.makedirs('./pics')\n",
    "\n",
    "def download_file(url, dest_folder, file_name=None):\n",
    "    if not os.path.exists(dest_folder):\n",
    "        os.makedirs(dest_folder)\n",
    "    response = requests.get(url, stream=True)\n",
    "    if file_name is None:\n",
    "        file_name = url.split('/')[-1]\n",
    "    file_name = os.path.join(dest_folder, file_name)\n",
    "    with open(file_name, 'wb') as file:\n",
    "        for chunk in response.iter_content(chunk_size=1024):\n",
    "            if chunk:\n",
    "                file.write(chunk)\n",
    "    return file_name\n",
    "\n",
    "def download_ipfs_file(ipfs_url, dest_folder, file_name=None):\n",
    "    ipfs_base_url = 'https://ipfs.io/ipfs/'\n",
    "    if ipfs_url.startswith('ipfs://'):\n",
    "        ipfs_url = ipfs_base_url + ipfs_url[7:]\n",
    "    return download_file(ipfs_url, dest_folder, file_name)\n",
    "\n",
    "def main():\n",
    "    base_uri = 'ipfs://bafybeia5rvfshw2cepg3mzva27ru7jpzkzfp5ncpyucctdq23moii6bauq/'\n",
    "    for i in range(100, 8881):\n",
    "        json_uri = base_uri + str(i)\n",
    "        json_file_path = download_ipfs_file(json_uri, './jsons', f'{i}.json')\n",
    "        with open(json_file_path, 'r') as json_file:\n",
    "            data = json.load(json_file)\n",
    "            image_uri = data['image']\n",
    "            download_ipfs_file(image_uri, './pics')\n",
    "        print(f'Downloaded {json_uri} and its image.')\n",
    "\n",
    "if __name__ == '__main__':\n",
    "    main()\n"
   ]
  },
  {
   "cell_type": "code",
   "execution_count": null,
   "metadata": {},
   "outputs": [],
   "source": []
  }
 ],
 "metadata": {
  "kernelspec": {
   "display_name": "Python 3",
   "language": "python",
   "name": "python3"
  },
  "language_info": {
   "codemirror_mode": {
    "name": "ipython",
    "version": 3
   },
   "file_extension": ".py",
   "mimetype": "text/x-python",
   "name": "python",
   "nbconvert_exporter": "python",
   "pygments_lexer": "ipython3",
   "version": "3.6.12"
  }
 },
 "nbformat": 4,
 "nbformat_minor": 4
}
